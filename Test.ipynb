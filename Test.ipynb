{
 "cells": [
  {
   "cell_type": "code",
   "execution_count": 1,
   "metadata": {},
   "outputs": [],
   "source": [
    "from dao.mongodbdao import MongoDBDao\n",
    "from tfidf.TF_IDF import TF_IDF\n",
    "import numpy as np \n",
    "\n",
    "dao = MongoDBDao({\n",
    "    \"host\": \"127.0.0.1\",\n",
    "    \"db\": \"default\",\n",
    "    \"wordindex_collection\": \"wordindex\",\n",
    "    \"pagedetails_collection\": \"pagedetails\",\n",
    "    \"username\": \"root\",\n",
    "    \"password\": \"spezanw\"\n",
    "})"
   ]
  },
  {
   "cell_type": "code",
   "execution_count": 2,
   "metadata": {},
   "outputs": [
    {
     "name": "stdout",
     "output_type": "stream",
     "text": [
      "TF-IDF module: initial TF calculation: article with url {'https://www.berlin.de/polizei/polizeimeldungen/pressemitteilung.276386.php'} contains no words\n",
      "TF-IDF module: initial TF calculation: article with url {'https://www.berlin.de/polizei/polizeimeldungen/pressemitteilung.461948.php'} contains no words\n",
      "TF-IDF module: initial TF calculation: article with url {'https://www.berlin.de/polizei/polizeimeldungen/pressemitteilung.587702.php'} contains no words\n",
      "TF-IDF module: initial TF calculation: article with url {'https://www.berlin.de/polizei/polizeimeldungen/pressemitteilung.85381.php'} contains no words\n"
     ]
    }
   ],
   "source": [
    "tfidf = TF_IDF(dao)"
   ]
  },
  {
   "cell_type": "code",
   "execution_count": 3,
   "metadata": {},
   "outputs": [
    {
     "name": "stdout",
     "output_type": "stream",
     "text": [
      "mit idf: 2.200094500422748\n",
      "raub idf: 1.3639513030614177\n",
      "die idf: 1.9387372095227182\n"
     ]
    }
   ],
   "source": [
    "print(\"mit idf:\",tfidf.term_idfs[\"mit\"])\n",
    "print(\"raub idf:\",tfidf.term_idfs[\"raub\"])\n",
    "print(\"die idf:\", tfidf.term_idfs[\"die\"])"
   ]
  },
  {
   "cell_type": "markdown",
   "metadata": {},
   "source": [
    "# diverse Tests"
   ]
  },
  {
   "cell_type": "code",
   "execution_count": 4,
   "metadata": {},
   "outputs": [
    {
     "name": "stdout",
     "output_type": "stream",
     "text": [
      "[1, 2]\n",
      "[3, 4]\n"
     ]
    }
   ],
   "source": [
    "a = [[1, 2],[3, 4]]\n",
    "for j in a:\n",
    "    print(j)"
   ]
  },
  {
   "cell_type": "code",
   "execution_count": null,
   "metadata": {},
   "outputs": [],
   "source": []
  },
  {
   "cell_type": "code",
   "execution_count": 5,
   "metadata": {},
   "outputs": [
    {
     "name": "stdout",
     "output_type": "stream",
     "text": [
      "True\n"
     ]
    }
   ],
   "source": [
    "term_count = dao.getAllWordsWithCounts()\n",
    "print(\"droge\" in term_count)"
   ]
  },
  {
   "cell_type": "code",
   "execution_count": 6,
   "metadata": {},
   "outputs": [
    {
     "data": {
      "text/plain": [
       "[('https://www.berlin.de/polizei/polizeimeldungen/pressemitteilung.449819.php',\n",
       "  0.44916853584645056),\n",
       " ('https://www.berlin.de/polizei/polizeimeldungen/pressemitteilung.265525.php',\n",
       "  0.4450432446983197),\n",
       " ('https://www.berlin.de/polizei/polizeimeldungen/pressemitteilung.479950.php',\n",
       "  0.43449499305473105),\n",
       " ('https://www.berlin.de/polizei/polizeimeldungen/pressemitteilung.276166.php',\n",
       "  0.39701167484193434),\n",
       " ('https://www.berlin.de/polizei/polizeimeldungen/pressemitteilung.748957.php',\n",
       "  0.37512629153678656)]"
      ]
     },
     "execution_count": 6,
     "metadata": {},
     "output_type": "execute_result"
    }
   ],
   "source": [
    "#tfidf.getResultsForInput(user_input=[\"fußgängerin\", \"gestern\", \"nachmittag\", \"polizei\", \"waffe\", \"drogen\", \"fahrrad\"], n_results=100, return_sims=True)\n",
    "#tfidf.tf_idfs[\"https://www.berlin.de/polizei/polizeimeldungen/pressemitteilung.247355.php\"]\n",
    "\n",
    "tfidf.getResultsForInput(user_input=[\"droge\"], n_results=5, return_sims=True)\n",
    "\n"
   ]
  },
  {
   "cell_type": "markdown",
   "metadata": {},
   "source": [
    "TF: \n",
    "- für jedes Dokument alle Wörter\n",
    "\n",
    "IDF:\n",
    "- Anzahl der Dokumente\n",
    "- alle Wörter\n",
    "- in wie vielen Dokumenten kommt jedes Wort vor?\n",
    "\n",
    "1. Index: Anzahl der Dokumente\n",
    "2. Inverser Index: Für term t get t.length"
   ]
  },
  {
   "cell_type": "code",
   "execution_count": 7,
   "metadata": {},
   "outputs": [
    {
     "data": {
      "text/plain": [
       "[1, 2, 3, 3, [], 3]"
      ]
     },
     "execution_count": 7,
     "metadata": {},
     "output_type": "execute_result"
    }
   ],
   "source": [
    "l = [1, 2, 3, 3]\n",
    "l.append([])\n",
    "l.append(3)\n",
    "l"
   ]
  },
  {
   "cell_type": "code",
   "execution_count": null,
   "metadata": {},
   "outputs": [],
   "source": []
  },
  {
   "cell_type": "code",
   "execution_count": 8,
   "metadata": {},
   "outputs": [
    {
     "data": {
      "text/plain": [
       "'from pymongo import MongoClient\\nconf = {\\n    \"host\": \"127.0.0.1\",\\n    \"port\": 27018,\\n    \"db\": \"default\",\\n    \"test_collection\": \"test\",\\n    \"username\": \"tfidf\",\\n    \"password\": \"tfidf\",\\n    \"authSource\": \"default\"\\n}\\n\\ndb_name = conf.pop(\"db\")\\ntest_collection_name = conf.pop(\"test_collection\")\\n\\nclient = MongoClient(**conf)\\ndb = client[db_name]\\ntest_collection = db[test_collection_name]'"
      ]
     },
     "execution_count": 8,
     "metadata": {},
     "output_type": "execute_result"
    }
   ],
   "source": [
    "\"\"\"from pymongo import MongoClient\n",
    "conf = {\n",
    "    \"host\": \"127.0.0.1\",\n",
    "    \"port\": 27018,\n",
    "    \"db\": \"default\",\n",
    "    \"test_collection\": \"test\",\n",
    "    \"username\": \"tfidf\",\n",
    "    \"password\": \"tfidf\",\n",
    "    \"authSource\": \"default\"\n",
    "}\n",
    "\n",
    "db_name = conf.pop(\"db\")\n",
    "test_collection_name = conf.pop(\"test_collection\")\n",
    "\n",
    "client = MongoClient(**conf)\n",
    "db = client[db_name]\n",
    "test_collection = db[test_collection_name]\"\"\""
   ]
  },
  {
   "cell_type": "code",
   "execution_count": 9,
   "metadata": {},
   "outputs": [
    {
     "data": {
      "text/plain": [
       "'doc = {\\n            \"_id\": 0,\\n            \"url\": \"abc\",\\n            \"title\": \"defg\"\\n        }\\n\\ntest_collection.find_one_and_replace({\"_id\": doc[\"_id\"]}, doc, upsert=True)'"
      ]
     },
     "execution_count": 9,
     "metadata": {},
     "output_type": "execute_result"
    }
   ],
   "source": [
    "\"\"\"doc = {\n",
    "            \"_id\": 0,\n",
    "            \"url\": \"abc\",\n",
    "            \"title\": \"defg\"\n",
    "        }\n",
    "\n",
    "test_collection.find_one_and_replace({\"_id\": doc[\"_id\"]}, doc, upsert=True)\"\"\""
   ]
  },
  {
   "cell_type": "code",
   "execution_count": 10,
   "metadata": {},
   "outputs": [
    {
     "data": {
      "text/plain": [
       "'doc = {\\n            \"_id\": 1,\\n            \"url\": \"abc\"\\n        }\\ntest_collection.find_one_and_replace({\"_id\": doc[\"_id\"]}, doc, upsert=True)'"
      ]
     },
     "execution_count": 10,
     "metadata": {},
     "output_type": "execute_result"
    }
   ],
   "source": [
    "\"\"\"doc = {\n",
    "            \"_id\": 1,\n",
    "            \"url\": \"abc\"\n",
    "        }\n",
    "test_collection.find_one_and_replace({\"_id\": doc[\"_id\"]}, doc, upsert=True)\"\"\""
   ]
  },
  {
   "cell_type": "code",
   "execution_count": 11,
   "metadata": {},
   "outputs": [
    {
     "data": {
      "text/plain": [
       "'list(test_collection.find({}))'"
      ]
     },
     "execution_count": 11,
     "metadata": {},
     "output_type": "execute_result"
    }
   ],
   "source": [
    "\"\"\"list(test_collection.find({}))\"\"\""
   ]
  },
  {
   "cell_type": "code",
   "execution_count": null,
   "metadata": {},
   "outputs": [],
   "source": []
  },
  {
   "cell_type": "code",
   "execution_count": null,
   "metadata": {},
   "outputs": [],
   "source": []
  },
  {
   "cell_type": "code",
   "execution_count": null,
   "metadata": {},
   "outputs": [],
   "source": []
  },
  {
   "cell_type": "code",
   "execution_count": 15,
   "metadata": {},
   "outputs": [
    {
     "name": "stdout",
     "output_type": "stream",
     "text": [
      "no func\n"
     ]
    }
   ],
   "source": [
    "def f():\n",
    "    print(\"hallo\")\n",
    "\n",
    "def pr(func=None):\n",
    "    if func:\n",
    "        func()\n",
    "    else:\n",
    "        print(\"no func\")\n",
    "        \n",
    "pr()"
   ]
  },
  {
   "cell_type": "code",
   "execution_count": 16,
   "metadata": {},
   "outputs": [
    {
     "name": "stdout",
     "output_type": "stream",
     "text": [
      "1\n",
      "2\n",
      "3\n"
     ]
    }
   ],
   "source": [
    "s = set([1, 2, 3])\n",
    "for k in s:\n",
    "    print(k)"
   ]
  },
  {
   "cell_type": "code",
   "execution_count": null,
   "metadata": {},
   "outputs": [],
   "source": []
  }
 ],
 "metadata": {
  "kernelspec": {
   "display_name": "Python 3",
   "language": "python",
   "name": "python3"
  },
  "language_info": {
   "codemirror_mode": {
    "name": "ipython",
    "version": 3
   },
   "file_extension": ".py",
   "mimetype": "text/x-python",
   "name": "python",
   "nbconvert_exporter": "python",
   "pygments_lexer": "ipython3",
   "version": "3.7.2"
  }
 },
 "nbformat": 4,
 "nbformat_minor": 2
}
