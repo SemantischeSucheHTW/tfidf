{
 "cells": [
  {
   "cell_type": "code",
   "execution_count": 1,
   "metadata": {},
   "outputs": [],
   "source": [
    "from dao.mongodbdao import MongoDBDao\n",
    "from tfidf.TF_IDF import TF_IDF\n",
    "import numpy as np \n",
    "\n",
    "\n",
    "dao = MongoDBDao({\n",
    "    \"host\": \"127.0.0.1\",\n",
    "    \"db\": \"default\",\n",
    "    \"wordindex_collection\": \"wordindex\",\n",
    "    \"pagedetails_collection\": \"pagedetails\",\n",
    "    \"username\": \"root\",\n",
    "    \"password\": \"spezanw\"\n",
    "})"
   ]
  },
  {
   "cell_type": "code",
   "execution_count": 2,
   "metadata": {},
   "outputs": [
    {
     "name": "stdout",
     "output_type": "stream",
     "text": [
      "TF-IDF calculation: TF calculation: article with url {'https://www.berlin.de/polizei/polizeimeldungen/pressemitteilung.276386.php'} contains no words\n",
      "TF-IDF calculation: TF calculation: article with url {'https://www.berlin.de/polizei/polizeimeldungen/pressemitteilung.461948.php'} contains no words\n",
      "TF-IDF calculation: TF calculation: article with url {'https://www.berlin.de/polizei/polizeimeldungen/pressemitteilung.587702.php'} contains no words\n",
      "TF-IDF calculation: TF calculation: article with url {'https://www.berlin.de/polizei/polizeimeldungen/pressemitteilung.85381.php'} contains no words\n"
     ]
    }
   ],
   "source": [
    "tfidf = TF_IDF(dao)\n",
    "#tfidf.calcTF_IDFs()"
   ]
  },
  {
   "cell_type": "code",
   "execution_count": 3,
   "metadata": {},
   "outputs": [
    {
     "name": "stdout",
     "output_type": "stream",
     "text": [
      "TF-IDF calculation: word in query is not in db\n"
     ]
    },
    {
     "data": {
      "text/plain": [
       "[]"
      ]
     },
     "execution_count": 3,
     "metadata": {},
     "output_type": "execute_result"
    }
   ],
   "source": [
    "#tfidf.getResultsForInput(user_input=[\"fußgängerin\", \"gestern\", \"nachmittag\", \"polizei\", \"waffe\", \"drogen\", \"fahrrad\"], n_results=100, return_sims=True)\n",
    "#tfidf.tf_idfs[\"https://www.berlin.de/polizei/polizeimeldungen/pressemitteilung.247355.php\"]\n",
    "\n",
    "tfidf.getResultsForInput(user_input=[\"drogen\"], n_results=100, return_sims=True)\n",
    "\n",
    "\n"
   ]
  },
  {
   "cell_type": "code",
   "execution_count": 4,
   "metadata": {},
   "outputs": [
    {
     "name": "stdout",
     "output_type": "stream",
     "text": [
      "TF-IDF calculation: word in query is not in db\n",
      "TF-IDF calculation: word in query is not in db\n"
     ]
    }
   ],
   "source": [
    "import matplotlib.pyplot as plt\n",
    "import matplotlib as plt_\n",
    "\n",
    "def calc_and_plot_mult(wordlist_list):\n",
    "    n_cols = 3\n",
    "    n_rows = int(np.ceil(len(wordlist_list)/n_cols))\n",
    "    size=(16, (16/3)*n_rows)\n",
    "    \n",
    "    fig, axs = plt.subplots(n_rows, n_cols, figsize=size)\n",
    "    axs_index = [0,0]\n",
    "    \n",
    "    for i, wordlist in enumerate(wordlist_list):\n",
    "        res = tfidf.getResultsForInput(user_input=wordlist, return_sims=True)\n",
    "        sims = [r[1] for r in res]\n",
    "        sims_unique = np.unique(sims)\n",
    "        \n",
    "        x = [i for i, s in enumerate(sims_unique)]\n",
    "        \n",
    "        index = (axs_index[0], axs_index[1])\n",
    "        \n",
    "        #axs[index].set_xlabel(\"Dokument i\") #str(\"... \\nEingabewörter:\" + str(wordlist)))\n",
    "        #axs[index].set_ylabel(\"Ähnlichkeit(Eingabe, Dokument i)\")\n",
    "        \n",
    "        axs[index].scatter(x, sims_unique, s=10)\n",
    "        \n",
    "        \n",
    "        #draw a mean line for some exploration\n",
    "        mean = np.mean(sims_unique)\n",
    "        y = [mean for i, s in enumerate(sims_unique)]\n",
    "        axs[index].plot(x, y, c='r')\n",
    "        \n",
    "        plt_.rcParams.update({'font.size': 14, 'font.family':'Arial'})\n",
    "        axs[index].legend([\"Mittelwert der Ähnlichkeiten\", \"Ähnlichkeit\"])\n",
    "        \n",
    "        \n",
    "        if axs_index[1] is n_cols-1:\n",
    "            axs_index[0]=axs_index[0]+1\n",
    "            axs_index[1]=0\n",
    "        else:\n",
    "            axs_index[1]=axs_index[1]+1\n",
    "\n",
    "wl_l = [[\"fußgängerin\", \"gestern\", \"nachmittag\", \"polizei\", \"waffe\", \"drogen\", \"fahrrad\"],\n",
    "        [\"fußgängerin\", \"fahrrad\"],\n",
    "        [\"gestern\", \"nachmittag\", \"polizei\"],\n",
    "        [\"gestern\"],\n",
    "        [\"ampel\"],\n",
    "        [\"schuss\", \"waffe\"],\n",
    "        [\"beleidigung\", \"auto\", \"straße\"],\n",
    "        [\"dieb\", \"topf\"],\n",
    "        [\"diebstahl\", \"auto\", \"warschauer\"],]\n",
    "calc_and_plot_mult(wl_l)"
   ]
  },
  {
   "cell_type": "code",
   "execution_count": null,
   "metadata": {},
   "outputs": [],
   "source": []
  },
  {
   "cell_type": "code",
   "execution_count": null,
   "metadata": {},
   "outputs": [],
   "source": []
  },
  {
   "cell_type": "code",
   "execution_count": null,
   "metadata": {},
   "outputs": [],
   "source": [
    "\n",
    "\n",
    "\n"
   ]
  },
  {
   "cell_type": "code",
   "execution_count": 5,
   "metadata": {},
   "outputs": [
    {
     "name": "stdout",
     "output_type": "stream",
     "text": [
      "TF-IDF calculation: word in query is not in db\n"
     ]
    }
   ],
   "source": [
    "u_input = [\"fußgängerin\", \"gestern\", \"nachmittag\", \"polizei\", \"waffe\", \"drogen\", \"fahrrad\"]\n",
    "result = tfidf.getResultsForInput(user_input=u_input, \n",
    "                                  return_sims=True)\n",
    "\n",
    "#for a given user input and url, calculates how many words from the query were the same as in the text (duplicates + different ones)\n",
    "def same_words_amount(req_wordlist, url):\n",
    "    db_wordlist = dao.getPageDetails(url)[0][\"words\"]\n",
    "    db_wordlist_unique = np.unique(db_wordlist)\n",
    "    db_wordlist_counts = np.unique(db_wordlist, return_counts=True)[1]\n",
    "    db_wordlist_unique_counts = dict(zip(db_wordlist_unique, db_wordlist_counts))\n",
    "    same=0\n",
    "    for req_word in req_wordlist:\n",
    "        try:\n",
    "            same+=db_wordlist_unique_counts[req_word]\n",
    "        except:\n",
    "            pass\n",
    "    return same\n",
    "\n",
    "#returns for every similarity how many words from the query were the same as in the text (duplicates + different ones)\n",
    "def sims_same_words_for_urls(req_wordlist, result):\n",
    "    sims_same_words = []\n",
    "    for url_sim in result:\n",
    "        sim_same_words = (url_sim[1], same_words_amount(req_wordlist, url_sim[0]))\n",
    "        sims_same_words.append(sim_same_words)\n",
    "    return sims_same_words\n",
    "\n",
    "sims_with_same_words = sims_same_words_for_urls(u_input,result)\n",
    "sims = [item[0] for item in sims_with_same_words]\n",
    "n_same_words = [item[1] for item in sims_with_same_words]"
   ]
  },
  {
   "cell_type": "code",
   "execution_count": 6,
   "metadata": {},
   "outputs": [
    {
     "data": {
      "text/plain": [
       "<matplotlib.collections.PathCollection at 0x114773cc0>"
      ]
     },
     "execution_count": 6,
     "metadata": {},
     "output_type": "execute_result"
    },
    {
     "data": {
      "image/png": "[encoded data removed]",
      "text/plain": [
       "<Figure size 1152x576 with 1 Axes>"
      ]
     },
     "metadata": {
      "needs_background": "light"
     },
     "output_type": "display_data"
    }
   ],
   "source": [
    "f, a = plt.subplots(figsize=(16, 8))\n",
    "a.set_xlabel(\"Anzahl der Wörter im Dokument, die auch gesucht wurden (mit Duplikaten)\")\n",
    "a.set_ylabel(\"Ähnlichkeit des Dokuments zur Eingabe\")\n",
    "plt_.rcParams.update({'font.size': 16, 'font.family':'Arial'})\n",
    "a.scatter(n_same_words, sims, s=12)"
   ]
  },
  {
   "cell_type": "code",
   "execution_count": 7,
   "metadata": {},
   "outputs": [
    {
     "data": {
      "text/plain": [
       "('https://www.berlin.de/polizei/polizeimeldungen/pressemitteilung.273187.php',\n",
       " 0.038392056791288424)"
      ]
     },
     "execution_count": 7,
     "metadata": {},
     "output_type": "execute_result"
    }
   ],
   "source": [
    "i = np.argmax(n_same_words)\n",
    "result[i]"
   ]
  },
  {
   "cell_type": "markdown",
   "metadata": {},
   "source": [
    "-> Da lange Texte die Ähnlichkeiten herunterziehen, kann es vorkommen, dass obwohl sehr viele ähnliche Wörter im Text enthalten sind, die Gesamtähnlichkeit extrem niedrig ist"
   ]
  },
  {
   "cell_type": "code",
   "execution_count": 8,
   "metadata": {},
   "outputs": [
    {
     "data": {
      "text/plain": [
       "[6, 4, 4, 4, 4, 4, 3, 6, 4, 4, 7, 4, 4, 4, 4, 3, 2, 2, 4, 4]"
      ]
     },
     "execution_count": 8,
     "metadata": {},
     "output_type": "execute_result"
    }
   ],
   "source": [
    "n_same_words[:20]"
   ]
  },
  {
   "cell_type": "code",
   "execution_count": 9,
   "metadata": {},
   "outputs": [
    {
     "data": {
      "text/plain": [
       "array([[302],\n",
       "       [703]])"
      ]
     },
     "execution_count": 9,
     "metadata": {},
     "output_type": "execute_result"
    }
   ],
   "source": [
    "np_n_same_words = np.array(n_same_words)\n",
    "np.argwhere(np_n_same_words==10)"
   ]
  },
  {
   "cell_type": "code",
   "execution_count": 10,
   "metadata": {},
   "outputs": [
    {
     "data": {
      "text/plain": [
       "('https://www.berlin.de/polizei/polizeimeldungen/pressemitteilung.488876.php',\n",
       " 0.0802426186098314)"
      ]
     },
     "execution_count": 10,
     "metadata": {},
     "output_type": "execute_result"
    }
   ],
   "source": [
    "result[302]"
   ]
  },
  {
   "cell_type": "code",
   "execution_count": null,
   "metadata": {},
   "outputs": [],
   "source": []
  },
  {
   "cell_type": "code",
   "execution_count": 11,
   "metadata": {},
   "outputs": [
    {
     "name": "stdout",
     "output_type": "stream",
     "text": [
      "[1, 2]\n",
      "[3, 4]\n"
     ]
    }
   ],
   "source": [
    "a = [[1, 2],[3, 4]]\n",
    "for j in a:\n",
    "    print(j)"
   ]
  },
  {
   "cell_type": "code",
   "execution_count": null,
   "metadata": {},
   "outputs": [],
   "source": []
  },
  {
   "cell_type": "code",
   "execution_count": 12,
   "metadata": {},
   "outputs": [
    {
     "name": "stdout",
     "output_type": "stream",
     "text": [
      "True\n"
     ]
    }
   ],
   "source": [
    "term_count = dao.getAllWordsWithCounts()\n",
    "print(\"droge\" in term_count)"
   ]
  },
  {
   "cell_type": "code",
   "execution_count": null,
   "metadata": {},
   "outputs": [],
   "source": []
  },
  {
   "cell_type": "markdown",
   "metadata": {},
   "source": [
    "TF: \n",
    "- für jedes Dokument alle Wörter\n",
    "\n",
    "IDF:\n",
    "- Anzahl der Dokumente\n",
    "- alle Wörter\n",
    "- in wie vielen Dokumenten kommt jedes Wort vor?\n",
    "\n",
    "1. Index: Anzahl der Dokumente\n",
    "2. Inverser Index: Für term t get t.length"
   ]
  },
  {
   "cell_type": "code",
   "execution_count": null,
   "metadata": {},
   "outputs": [],
   "source": []
  },
  {
   "cell_type": "code",
   "execution_count": null,
   "metadata": {},
   "outputs": [],
   "source": []
  }
 ],
 "metadata": {
  "kernelspec": {
   "display_name": "Python 3",
   "language": "python",
   "name": "python3"
  },
  "language_info": {
   "codemirror_mode": {
    "name": "ipython",
    "version": 3
   },
   "file_extension": ".py",
   "mimetype": "text/x-python",
   "name": "python",
   "nbconvert_exporter": "python",
   "pygments_lexer": "ipython3",
   "version": "3.7.2"
  }
 },
 "nbformat": 4,
 "nbformat_minor": 2
}
