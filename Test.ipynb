{
 "cells": [
  {
   "cell_type": "code",
   "execution_count": 1,
   "metadata": {},
   "outputs": [],
   "source": [
    "from dao.mongodbdao import MongoDBDao\n",
    "from updater.TF_IDF import TF_IDF\n",
    "import numpy as np \n",
    "\n",
    "\n",
    "dao = MongoDBDao({\n",
    "    \"host\": \"127.0.0.1\",\n",
    "    \"db\": \"default\",\n",
    "    \"wordindex_collection\": \"wordindex\",\n",
    "    \"pagedetails_collection\": \"pagedetails\",\n",
    "    \"username\": \"root\",\n",
    "    \"password\": \"spezanw\"\n",
    "})"
   ]
  },
  {
   "cell_type": "code",
   "execution_count": 2,
   "metadata": {},
   "outputs": [
    {
     "name": "stdout",
     "output_type": "stream",
     "text": [
      "TF-IDF calculation: article contains no words\n",
      "TF-IDF calculation: article contains no words\n",
      "TF-IDF calculation: article contains no words\n",
      "TF-IDF calculation: article contains no words\n"
     ]
    }
   ],
   "source": [
    "tfidf = TF_IDF(dao)\n",
    "tfidf.calcTF_IDFs()"
   ]
  },
  {
   "cell_type": "code",
   "execution_count": 3,
   "metadata": {},
   "outputs": [
    {
     "data": {
      "text/plain": [
       "[('https://www.berlin.de/polizei/polizeimeldungen/pressemitteilung.329268.php',\n",
       "  0.36379878995446746),\n",
       " ('https://www.berlin.de/polizei/polizeimeldungen/pressemitteilung.465558.php',\n",
       "  0.2950130924496261),\n",
       " ('https://www.berlin.de/polizei/polizeimeldungen/pressemitteilung.342413.php',\n",
       "  0.2761680111867712),\n",
       " ('https://www.berlin.de/polizei/polizeimeldungen/pressemitteilung.256232.php',\n",
       "  0.24272444660353934),\n",
       " ('https://www.berlin.de/polizei/polizeimeldungen/pressemitteilung.694020.php',\n",
       "  0.2280660674830215),\n",
       " ('https://www.berlin.de/polizei/polizeimeldungen/pressemitteilung.243475.php',\n",
       "  0.22662272369402217),\n",
       " ('https://www.berlin.de/polizei/polizeimeldungen/pressemitteilung.564097.php',\n",
       "  0.2169946844059683),\n",
       " ('https://www.berlin.de/polizei/polizeimeldungen/pressemitteilung.734720.php',\n",
       "  0.2145168862650541),\n",
       " ('https://www.berlin.de/polizei/polizeimeldungen/pressemitteilung.387122.php',\n",
       "  0.21446152164563945),\n",
       " ('https://www.berlin.de/polizei/polizeimeldungen/pressemitteilung.538385.php',\n",
       "  0.21065761691701637)]"
      ]
     },
     "execution_count": 3,
     "metadata": {},
     "output_type": "execute_result"
    }
   ],
   "source": [
    "tfidf.getResultsForInput(user_input=[\"fußgängerin\", \"gestern\", \"nachmittag\", \"polizei\", \"waffe\", \"drogen\", \"fahrrad\"], n_results=10, return_sims=True)\n",
    "\n",
    "\n"
   ]
  },
  {
   "cell_type": "code",
   "execution_count": null,
   "metadata": {},
   "outputs": [],
   "source": []
  },
  {
   "cell_type": "code",
   "execution_count": null,
   "metadata": {},
   "outputs": [],
   "source": []
  },
  {
   "cell_type": "code",
   "execution_count": null,
   "metadata": {},
   "outputs": [],
   "source": []
  },
  {
   "cell_type": "code",
   "execution_count": null,
   "metadata": {},
   "outputs": [],
   "source": []
  },
  {
   "cell_type": "markdown",
   "metadata": {},
   "source": [
    "TF: \n",
    "- für jedes Dokument alle Wörter\n",
    "\n",
    "IDF:\n",
    "- Anzahl der Dokumente\n",
    "- alle Wörter\n",
    "- in wie vielen Dokumenten kommt jedes Wort vor?\n",
    "\n",
    "1. Index: Anzahl der Dokumente\n",
    "2. Inverser Index: Für term t get t.length"
   ]
  },
  {
   "cell_type": "code",
   "execution_count": null,
   "metadata": {},
   "outputs": [],
   "source": []
  },
  {
   "cell_type": "code",
   "execution_count": null,
   "metadata": {},
   "outputs": [],
   "source": []
  }
 ],
 "metadata": {
  "kernelspec": {
   "display_name": "Python 3",
   "language": "python",
   "name": "python3"
  },
  "language_info": {
   "codemirror_mode": {
    "name": "ipython",
    "version": 3
   },
   "file_extension": ".py",
   "mimetype": "text/x-python",
   "name": "python",
   "nbconvert_exporter": "python",
   "pygments_lexer": "ipython3",
   "version": "3.6.4"
  }
 },
 "nbformat": 4,
 "nbformat_minor": 2
}
