{
 "cells": [
  {
   "cell_type": "code",
   "execution_count": 1,
   "metadata": {},
   "outputs": [],
   "source": [
    "from dao.mongodbdao import MongoDBDao\n",
    "from tfidf.TF_IDF import TF_IDF\n",
    "import numpy as np \n",
    "\n",
    "dao = MongoDBDao({\n",
    "    \"host\": \"127.0.0.1\",\n",
    "    \"db\": \"default\",\n",
    "    \"wordindex_collection\": \"wordindex\",\n",
    "    \"pagedetails_collection\": \"pagedetails\",\n",
    "    \"username\": \"root\",\n",
    "    \"password\": \"spezanw\"\n",
    "})"
   ]
  },
  {
   "cell_type": "code",
   "execution_count": 2,
   "metadata": {},
   "outputs": [
    {
     "name": "stdout",
     "output_type": "stream",
     "text": [
      "TF-IDF module: initial TF calculation: article with url {'https://www.berlin.de/polizei/polizeimeldungen/pressemitteilung.276386.php'} contains no words\n",
      "TF-IDF module: initial TF calculation: article with url {'https://www.berlin.de/polizei/polizeimeldungen/pressemitteilung.461948.php'} contains no words\n",
      "TF-IDF module: initial TF calculation: article with url {'https://www.berlin.de/polizei/polizeimeldungen/pressemitteilung.587702.php'} contains no words\n",
      "TF-IDF module: initial TF calculation: article with url {'https://www.berlin.de/polizei/polizeimeldungen/pressemitteilung.85381.php'} contains no words\n"
     ]
    }
   ],
   "source": [
    "tfidf = TF_IDF(dao)"
   ]
  },
  {
   "cell_type": "code",
   "execution_count": 3,
   "metadata": {},
   "outputs": [
    {
     "name": "stdout",
     "output_type": "stream",
     "text": [
      "mit idf: 2.200094500422748\n",
      "raub idf: 1.3639513030614177\n",
      "die idf: 1.9387372095227182\n"
     ]
    }
   ],
   "source": [
    "print(\"mit idf:\",tfidf.term_idfs[\"mit\"])\n",
    "print(\"raub idf:\",tfidf.term_idfs[\"raub\"])\n",
    "print(\"die idf:\", tfidf.term_idfs[\"die\"])"
   ]
  },
  {
   "cell_type": "markdown",
   "metadata": {},
   "source": [
    "# diverse Tests"
   ]
  },
  {
   "cell_type": "code",
   "execution_count": 4,
   "metadata": {},
   "outputs": [
    {
     "name": "stdout",
     "output_type": "stream",
     "text": [
      "[1, 2]\n",
      "[3, 4]\n"
     ]
    }
   ],
   "source": [
    "a = [[1, 2],[3, 4]]\n",
    "for j in a:\n",
    "    print(j)"
   ]
  },
  {
   "cell_type": "code",
   "execution_count": null,
   "metadata": {},
   "outputs": [],
   "source": []
  },
  {
   "cell_type": "code",
   "execution_count": 10,
   "metadata": {},
   "outputs": [
    {
     "name": "stdout",
     "output_type": "stream",
     "text": [
      "True\n"
     ]
    }
   ],
   "source": [
    "term_count = dao.getAllWordsWithCounts()\n",
    "print(\"droge\" in term_count)"
   ]
  },
  {
   "cell_type": "code",
   "execution_count": 11,
   "metadata": {},
   "outputs": [
    {
     "data": {
      "text/plain": [
       "[('https://www.berlin.de/polizei/polizeimeldungen/pressemitteilung.449819.php',\n",
       "  0.44916853584645056),\n",
       " ('https://www.berlin.de/polizei/polizeimeldungen/pressemitteilung.265525.php',\n",
       "  0.4450432446983197),\n",
       " ('https://www.berlin.de/polizei/polizeimeldungen/pressemitteilung.479950.php',\n",
       "  0.43449499305473105),\n",
       " ('https://www.berlin.de/polizei/polizeimeldungen/pressemitteilung.276166.php',\n",
       "  0.39701167484193434),\n",
       " ('https://www.berlin.de/polizei/polizeimeldungen/pressemitteilung.748957.php',\n",
       "  0.37512629153678656),\n",
       " ('https://www.berlin.de/polizei/polizeimeldungen/pressemitteilung.417105.php',\n",
       "  0.34626223394338634),\n",
       " ('https://www.berlin.de/polizei/polizeimeldungen/pressemitteilung.541379.php',\n",
       "  0.33888209148851417),\n",
       " ('https://www.berlin.de/polizei/polizeimeldungen/pressemitteilung.268562.php',\n",
       "  0.30657918944562546),\n",
       " ('https://www.berlin.de/polizei/polizeimeldungen/pressemitteilung.468788.php',\n",
       "  0.2856868417261799),\n",
       " ('https://www.berlin.de/polizei/polizeimeldungen/pressemitteilung.459143.php',\n",
       "  0.27798691980950685),\n",
       " ('https://www.berlin.de/polizei/polizeimeldungen/pressemitteilung.274458.php',\n",
       "  0.27587749046443705),\n",
       " ('https://www.berlin.de/polizei/polizeimeldungen/pressemitteilung.623756.php',\n",
       "  0.27172976473169497),\n",
       " ('https://www.berlin.de/polizei/polizeimeldungen/pressemitteilung.567490.php',\n",
       "  0.26749198246194467),\n",
       " ('https://www.berlin.de/polizei/polizeimeldungen/pressemitteilung.489143.php',\n",
       "  0.26543946069582824),\n",
       " ('https://www.berlin.de/polizei/polizeimeldungen/pressemitteilung.260012.php',\n",
       "  0.2635580711125916),\n",
       " ('https://www.berlin.de/polizei/polizeimeldungen/pressemitteilung.230367.php',\n",
       "  0.26110623384345705),\n",
       " ('https://www.berlin.de/polizei/polizeimeldungen/pressemitteilung.283998.php',\n",
       "  0.2555321541734744),\n",
       " ('https://www.berlin.de/polizei/polizeimeldungen/pressemitteilung.319932.php',\n",
       "  0.25322048128468905),\n",
       " ('https://www.berlin.de/polizei/polizeimeldungen/pressemitteilung.655653.php',\n",
       "  0.2480045054390695),\n",
       " ('https://www.berlin.de/polizei/polizeimeldungen/pressemitteilung.428674.php',\n",
       "  0.24295740051799214),\n",
       " ('https://www.berlin.de/polizei/polizeimeldungen/pressemitteilung.747662.php',\n",
       "  0.24023379822478486),\n",
       " ('https://www.berlin.de/polizei/polizeimeldungen/pressemitteilung.308940.php',\n",
       "  0.24011321544964967),\n",
       " ('https://www.berlin.de/polizei/polizeimeldungen/pressemitteilung.543344.php',\n",
       "  0.23508289791023265),\n",
       " ('https://www.berlin.de/polizei/polizeimeldungen/pressemitteilung.626792.php',\n",
       "  0.22142938826978056),\n",
       " ('https://www.berlin.de/polizei/polizeimeldungen/pressemitteilung.287900.php',\n",
       "  0.2148803693690623),\n",
       " ('https://www.berlin.de/polizei/polizeimeldungen/pressemitteilung.536784.php',\n",
       "  0.21029453010416768),\n",
       " ('https://www.berlin.de/polizei/polizeimeldungen/pressemitteilung.268324.php',\n",
       "  0.20994958904901515),\n",
       " ('https://www.berlin.de/polizei/polizeimeldungen/pressemitteilung.430542.php',\n",
       "  0.2079905559435624),\n",
       " ('https://www.berlin.de/polizei/polizeimeldungen/pressemitteilung.593248.php',\n",
       "  0.2052381949101312),\n",
       " ('https://www.berlin.de/polizei/polizeimeldungen/pressemitteilung.433607.php',\n",
       "  0.20186074246636532),\n",
       " ('https://www.berlin.de/polizei/polizeimeldungen/pressemitteilung.244882.php',\n",
       "  0.20172372331260088),\n",
       " ('https://www.berlin.de/polizei/polizeimeldungen/pressemitteilung.757315.php',\n",
       "  0.2013383593771847),\n",
       " ('https://www.berlin.de/polizei/polizeimeldungen/pressemitteilung.666032.php',\n",
       "  0.19672832110161664),\n",
       " ('https://www.berlin.de/polizei/polizeimeldungen/pressemitteilung.339888.php',\n",
       "  0.195482091030701),\n",
       " ('https://www.berlin.de/polizei/polizeimeldungen/pressemitteilung.724008.php',\n",
       "  0.1947740600941211),\n",
       " ('https://www.berlin.de/polizei/polizeimeldungen/pressemitteilung.681923.php',\n",
       "  0.193510730649756),\n",
       " ('https://www.berlin.de/polizei/polizeimeldungen/pressemitteilung.586640.php',\n",
       "  0.19265665189766204),\n",
       " ('https://www.berlin.de/polizei/polizeimeldungen/pressemitteilung.295176.php',\n",
       "  0.19048934920433316),\n",
       " ('https://www.berlin.de/polizei/polizeimeldungen/pressemitteilung.312853.php',\n",
       "  0.18954573461259472),\n",
       " ('https://www.berlin.de/polizei/polizeimeldungen/pressemitteilung.760672.php',\n",
       "  0.1862224842236547),\n",
       " ('https://www.berlin.de/polizei/polizeimeldungen/pressemitteilung.268552.php',\n",
       "  0.18526902411507962),\n",
       " ('https://www.berlin.de/polizei/polizeimeldungen/pressemitteilung.700465.php',\n",
       "  0.18277320434309083),\n",
       " ('https://www.berlin.de/polizei/polizeimeldungen/pressemitteilung.342445.php',\n",
       "  0.18048232886276627),\n",
       " ('https://www.berlin.de/polizei/polizeimeldungen/pressemitteilung.433029.php',\n",
       "  0.17656544577773975),\n",
       " ('https://www.berlin.de/polizei/polizeimeldungen/pressemitteilung.685437.php',\n",
       "  0.17613079521403333),\n",
       " ('https://www.berlin.de/polizei/polizeimeldungen/pressemitteilung.743400.php',\n",
       "  0.17543976999632827),\n",
       " ('https://www.berlin.de/polizei/polizeimeldungen/pressemitteilung.531518.php',\n",
       "  0.1695353234849227),\n",
       " ('https://www.berlin.de/polizei/polizeimeldungen/pressemitteilung.521527.php',\n",
       "  0.16906113782072385),\n",
       " ('https://www.berlin.de/polizei/polizeimeldungen/pressemitteilung.421409.php',\n",
       "  0.16336301648015866),\n",
       " ('https://www.berlin.de/polizei/polizeimeldungen/pressemitteilung.673755.php',\n",
       "  0.16176446569637992),\n",
       " ('https://www.berlin.de/polizei/polizeimeldungen/pressemitteilung.324555.php',\n",
       "  0.15520067049441116),\n",
       " ('https://www.berlin.de/polizei/polizeimeldungen/pressemitteilung.677537.php',\n",
       "  0.15221592722990357),\n",
       " ('https://www.berlin.de/polizei/polizeimeldungen/pressemitteilung.350697.php',\n",
       "  0.15183365112838848),\n",
       " ('https://www.berlin.de/polizei/polizeimeldungen/pressemitteilung.718631.php',\n",
       "  0.14960231716244904),\n",
       " ('https://www.berlin.de/polizei/polizeimeldungen/pressemitteilung.627638.php',\n",
       "  0.1489627851269797),\n",
       " ('https://www.berlin.de/polizei/polizeimeldungen/pressemitteilung.344367.php',\n",
       "  0.14712009937403633),\n",
       " ('https://www.berlin.de/polizei/polizeimeldungen/pressemitteilung.443670.php',\n",
       "  0.14678535046265784),\n",
       " ('https://www.berlin.de/polizei/polizeimeldungen/pressemitteilung.218469.php',\n",
       "  0.14622745608461735),\n",
       " ('https://www.berlin.de/polizei/polizeimeldungen/pressemitteilung.424664.php',\n",
       "  0.14578713923499384),\n",
       " ('https://www.berlin.de/polizei/polizeimeldungen/pressemitteilung.758993.php',\n",
       "  0.14548172859039113),\n",
       " ('https://www.berlin.de/polizei/polizeimeldungen/pressemitteilung.327465.php',\n",
       "  0.14519247402686353),\n",
       " ('https://www.berlin.de/polizei/polizeimeldungen/pressemitteilung.748369.php',\n",
       "  0.14443709570277186),\n",
       " ('https://www.berlin.de/polizei/polizeimeldungen/pressemitteilung.631912.php',\n",
       "  0.1436692765245252),\n",
       " ('https://www.berlin.de/polizei/polizeimeldungen/pressemitteilung.598825.php',\n",
       "  0.14113201073861975),\n",
       " ('https://www.berlin.de/polizei/polizeimeldungen/pressemitteilung.697199.php',\n",
       "  0.14025463447228181),\n",
       " ('https://www.berlin.de/polizei/polizeimeldungen/pressemitteilung.232406.php',\n",
       "  0.14005439502093395),\n",
       " ('https://www.berlin.de/polizei/polizeimeldungen/pressemitteilung.690095.php',\n",
       "  0.13791449918700752),\n",
       " ('https://www.berlin.de/polizei/polizeimeldungen/pressemitteilung.600358.php',\n",
       "  0.1375449574629565),\n",
       " ('https://www.berlin.de/polizei/polizeimeldungen/pressemitteilung.275464.php',\n",
       "  0.13304388309469511),\n",
       " ('https://www.berlin.de/polizei/polizeimeldungen/pressemitteilung.465900.php',\n",
       "  0.1327861384663582),\n",
       " ('https://www.berlin.de/polizei/polizeimeldungen/pressemitteilung.524395.php',\n",
       "  0.13127866884285277),\n",
       " ('https://www.berlin.de/polizei/polizeimeldungen/pressemitteilung.740736.php',\n",
       "  0.13092125807054408),\n",
       " ('https://www.berlin.de/polizei/polizeimeldungen/pressemitteilung.497791.php',\n",
       "  0.1308796470709514),\n",
       " ('https://www.berlin.de/polizei/polizeimeldungen/pressemitteilung.558886.php',\n",
       "  0.130587378941323),\n",
       " ('https://www.berlin.de/polizei/polizeimeldungen/pressemitteilung.540184.php',\n",
       "  0.12878859408556378),\n",
       " ('https://www.berlin.de/polizei/polizeimeldungen/pressemitteilung.400973.php',\n",
       "  0.1277415541805358),\n",
       " ('https://www.berlin.de/polizei/polizeimeldungen/pressemitteilung.336858.php',\n",
       "  0.12698991792514694),\n",
       " ('https://www.berlin.de/polizei/polizeimeldungen/pressemitteilung.561472.php',\n",
       "  0.12696137128161608),\n",
       " ('https://www.berlin.de/polizei/polizeimeldungen/pressemitteilung.579549.php',\n",
       "  0.12653885334369774),\n",
       " ('https://www.berlin.de/polizei/polizeimeldungen/pressemitteilung.566540.php',\n",
       "  0.125253855824425),\n",
       " ('https://www.berlin.de/polizei/polizeimeldungen/pressemitteilung.547633.php',\n",
       "  0.12522681215533163),\n",
       " ('https://www.berlin.de/polizei/polizeimeldungen/pressemitteilung.450344.php',\n",
       "  0.12411663155209529),\n",
       " ('https://www.berlin.de/polizei/polizeimeldungen/pressemitteilung.457426.php',\n",
       "  0.12328532675316191),\n",
       " ('https://www.berlin.de/polizei/polizeimeldungen/pressemitteilung.261023.php',\n",
       "  0.12263701406942536),\n",
       " ('https://www.berlin.de/polizei/polizeimeldungen/pressemitteilung.488880.php',\n",
       "  0.12216806018283607),\n",
       " ('https://www.berlin.de/polizei/polizeimeldungen/pressemitteilung.661689.php',\n",
       "  0.12179870356702815),\n",
       " ('https://www.berlin.de/polizei/polizeimeldungen/pressemitteilung.469977.php',\n",
       "  0.12015982081186793),\n",
       " ('https://www.berlin.de/polizei/polizeimeldungen/pressemitteilung.506512.php',\n",
       "  0.11977731226669533),\n",
       " ('https://www.berlin.de/polizei/polizeimeldungen/pressemitteilung.527854.php',\n",
       "  0.11949875099832617),\n",
       " ('https://www.berlin.de/polizei/polizeimeldungen/pressemitteilung.352359.php',\n",
       "  0.11930805302077381),\n",
       " ('https://www.berlin.de/polizei/polizeimeldungen/pressemitteilung.661167.php',\n",
       "  0.11818845041559695),\n",
       " ('https://www.berlin.de/polizei/polizeimeldungen/pressemitteilung.661264.php',\n",
       "  0.11749795005793305),\n",
       " ('https://www.berlin.de/polizei/polizeimeldungen/pressemitteilung.479355.php',\n",
       "  0.11613433890026614),\n",
       " ('https://www.berlin.de/polizei/polizeimeldungen/pressemitteilung.575996.php',\n",
       "  0.11593205785144668),\n",
       " ('https://www.berlin.de/polizei/polizeimeldungen/pressemitteilung.263548.php',\n",
       "  0.1152452246258803),\n",
       " ('https://www.berlin.de/polizei/polizeimeldungen/pressemitteilung.301588.php',\n",
       "  0.11449537362388573),\n",
       " ('https://www.berlin.de/polizei/polizeimeldungen/pressemitteilung.735120.php',\n",
       "  0.11434906204284838),\n",
       " ('https://www.berlin.de/polizei/polizeimeldungen/pressemitteilung.752195.php',\n",
       "  0.11321679473678575),\n",
       " ('https://www.berlin.de/polizei/polizeimeldungen/pressemitteilung.561760.php',\n",
       "  0.11152097337086972),\n",
       " ('https://www.berlin.de/polizei/polizeimeldungen/pressemitteilung.443838.php',\n",
       "  0.11118461291517612)]"
      ]
     },
     "execution_count": 11,
     "metadata": {},
     "output_type": "execute_result"
    }
   ],
   "source": [
    "#tfidf.getResultsForInput(user_input=[\"fußgängerin\", \"gestern\", \"nachmittag\", \"polizei\", \"waffe\", \"drogen\", \"fahrrad\"], n_results=100, return_sims=True)\n",
    "#tfidf.tf_idfs[\"https://www.berlin.de/polizei/polizeimeldungen/pressemitteilung.247355.php\"]\n",
    "\n",
    "tfidf.getResultsForInput(user_input=[\"droge\"], n_results=100, return_sims=True)\n",
    "\n"
   ]
  },
  {
   "cell_type": "markdown",
   "metadata": {},
   "source": [
    "TF: \n",
    "- für jedes Dokument alle Wörter\n",
    "\n",
    "IDF:\n",
    "- Anzahl der Dokumente\n",
    "- alle Wörter\n",
    "- in wie vielen Dokumenten kommt jedes Wort vor?\n",
    "\n",
    "1. Index: Anzahl der Dokumente\n",
    "2. Inverser Index: Für term t get t.length"
   ]
  },
  {
   "cell_type": "code",
   "execution_count": 7,
   "metadata": {},
   "outputs": [
    {
     "data": {
      "text/plain": [
       "[1, 2, 3, 3, [], 3]"
      ]
     },
     "execution_count": 7,
     "metadata": {},
     "output_type": "execute_result"
    }
   ],
   "source": [
    "l = [1, 2, 3, 3]\n",
    "l.append([])\n",
    "l.append(3)\n",
    "l"
   ]
  },
  {
   "cell_type": "code",
   "execution_count": null,
   "metadata": {},
   "outputs": [],
   "source": []
  },
  {
   "cell_type": "code",
   "execution_count": 8,
   "metadata": {},
   "outputs": [],
   "source": [
    "from pymongo import MongoClient\n",
    "conf = {\n",
    "    \"host\": \"127.0.0.1\",\n",
    "    \"port\": 27018,\n",
    "    \"db\": \"default\",\n",
    "    \"test_collection\": \"test\",\n",
    "    \"username\": \"tfidf\",\n",
    "    \"password\": \"tfidf\",\n",
    "    \"authSource\": \"default\"\n",
    "}\n",
    "\n",
    "db_name = conf.pop(\"db\")\n",
    "test_collection_name = conf.pop(\"test_collection\")\n",
    "\n",
    "client = MongoClient(**conf)\n",
    "db = client[db_name]\n",
    "test_collection = db[test_collection_name]"
   ]
  },
  {
   "cell_type": "code",
   "execution_count": 9,
   "metadata": {},
   "outputs": [
    {
     "ename": "ServerSelectionTimeoutError",
     "evalue": "127.0.0.1:27018: [Errno 61] Connection refused",
     "output_type": "error",
     "traceback": [
      "\u001b[0;31m---------------------------------------------------------------------------\u001b[0m",
      "\u001b[0;31mServerSelectionTimeoutError\u001b[0m               Traceback (most recent call last)",
      "\u001b[0;32m<ipython-input-9-4ea7a3385ead>\u001b[0m in \u001b[0;36m<module>\u001b[0;34m\u001b[0m\n\u001b[1;32m      5\u001b[0m         }\n\u001b[1;32m      6\u001b[0m \u001b[0;34m\u001b[0m\u001b[0m\n\u001b[0;32m----> 7\u001b[0;31m \u001b[0mtest_collection\u001b[0m\u001b[0;34m.\u001b[0m\u001b[0mfind_one_and_replace\u001b[0m\u001b[0;34m(\u001b[0m\u001b[0;34m{\u001b[0m\u001b[0;34m\"_id\"\u001b[0m\u001b[0;34m:\u001b[0m \u001b[0mdoc\u001b[0m\u001b[0;34m[\u001b[0m\u001b[0;34m\"_id\"\u001b[0m\u001b[0;34m]\u001b[0m\u001b[0;34m}\u001b[0m\u001b[0;34m,\u001b[0m \u001b[0mdoc\u001b[0m\u001b[0;34m,\u001b[0m \u001b[0mupsert\u001b[0m\u001b[0;34m=\u001b[0m\u001b[0;32mTrue\u001b[0m\u001b[0;34m)\u001b[0m\u001b[0;34m\u001b[0m\u001b[0;34m\u001b[0m\u001b[0m\n\u001b[0m",
      "\u001b[0;32m/usr/local/lib/python3.7/site-packages/pymongo/collection.py\u001b[0m in \u001b[0;36mfind_one_and_replace\u001b[0;34m(self, filter, replacement, projection, sort, upsert, return_document, session, **kwargs)\u001b[0m\n\u001b[1;32m   3007\u001b[0m         return self.__find_and_modify(filter, projection,\n\u001b[1;32m   3008\u001b[0m                                       \u001b[0msort\u001b[0m\u001b[0;34m,\u001b[0m \u001b[0mupsert\u001b[0m\u001b[0;34m,\u001b[0m \u001b[0mreturn_document\u001b[0m\u001b[0;34m,\u001b[0m\u001b[0;34m\u001b[0m\u001b[0;34m\u001b[0m\u001b[0m\n\u001b[0;32m-> 3009\u001b[0;31m                                       session=session, **kwargs)\n\u001b[0m\u001b[1;32m   3010\u001b[0m \u001b[0;34m\u001b[0m\u001b[0m\n\u001b[1;32m   3011\u001b[0m     def find_one_and_update(self, filter, update,\n",
      "\u001b[0;32m/usr/local/lib/python3.7/site-packages/pymongo/collection.py\u001b[0m in \u001b[0;36m__find_and_modify\u001b[0;34m(self, filter, projection, sort, upsert, return_document, array_filters, session, **kwargs)\u001b[0m\n\u001b[1;32m   2870\u001b[0m \u001b[0;34m\u001b[0m\u001b[0m\n\u001b[1;32m   2871\u001b[0m         return self.__database.client._retryable_write(\n\u001b[0;32m-> 2872\u001b[0;31m             write_concern.acknowledged, _find_and_modify, session)\n\u001b[0m\u001b[1;32m   2873\u001b[0m \u001b[0;34m\u001b[0m\u001b[0m\n\u001b[1;32m   2874\u001b[0m     def find_one_and_delete(self, filter,\n",
      "\u001b[0;32m/usr/local/lib/python3.7/site-packages/pymongo/mongo_client.py\u001b[0m in \u001b[0;36m_retryable_write\u001b[0;34m(self, retryable, func, session)\u001b[0m\n\u001b[1;32m   1245\u001b[0m     \u001b[0;32mdef\u001b[0m \u001b[0m_retryable_write\u001b[0m\u001b[0;34m(\u001b[0m\u001b[0mself\u001b[0m\u001b[0;34m,\u001b[0m \u001b[0mretryable\u001b[0m\u001b[0;34m,\u001b[0m \u001b[0mfunc\u001b[0m\u001b[0;34m,\u001b[0m \u001b[0msession\u001b[0m\u001b[0;34m)\u001b[0m\u001b[0;34m:\u001b[0m\u001b[0;34m\u001b[0m\u001b[0;34m\u001b[0m\u001b[0m\n\u001b[1;32m   1246\u001b[0m         \u001b[0;34m\"\"\"Internal retryable write helper.\"\"\"\u001b[0m\u001b[0;34m\u001b[0m\u001b[0;34m\u001b[0m\u001b[0m\n\u001b[0;32m-> 1247\u001b[0;31m         \u001b[0;32mwith\u001b[0m \u001b[0mself\u001b[0m\u001b[0;34m.\u001b[0m\u001b[0m_tmp_session\u001b[0m\u001b[0;34m(\u001b[0m\u001b[0msession\u001b[0m\u001b[0;34m)\u001b[0m \u001b[0;32mas\u001b[0m \u001b[0ms\u001b[0m\u001b[0;34m:\u001b[0m\u001b[0;34m\u001b[0m\u001b[0;34m\u001b[0m\u001b[0m\n\u001b[0m\u001b[1;32m   1248\u001b[0m             \u001b[0;32mreturn\u001b[0m \u001b[0mself\u001b[0m\u001b[0;34m.\u001b[0m\u001b[0m_retry_with_session\u001b[0m\u001b[0;34m(\u001b[0m\u001b[0mretryable\u001b[0m\u001b[0;34m,\u001b[0m \u001b[0mfunc\u001b[0m\u001b[0;34m,\u001b[0m \u001b[0ms\u001b[0m\u001b[0;34m,\u001b[0m \u001b[0;32mNone\u001b[0m\u001b[0;34m)\u001b[0m\u001b[0;34m\u001b[0m\u001b[0;34m\u001b[0m\u001b[0m\n\u001b[1;32m   1249\u001b[0m \u001b[0;34m\u001b[0m\u001b[0m\n",
      "\u001b[0;32m/usr/local/Cellar/python/3.7.2_1/Frameworks/Python.framework/Versions/3.7/lib/python3.7/contextlib.py\u001b[0m in \u001b[0;36m__enter__\u001b[0;34m(self)\u001b[0m\n\u001b[1;32m    110\u001b[0m         \u001b[0;32mdel\u001b[0m \u001b[0mself\u001b[0m\u001b[0;34m.\u001b[0m\u001b[0margs\u001b[0m\u001b[0;34m,\u001b[0m \u001b[0mself\u001b[0m\u001b[0;34m.\u001b[0m\u001b[0mkwds\u001b[0m\u001b[0;34m,\u001b[0m \u001b[0mself\u001b[0m\u001b[0;34m.\u001b[0m\u001b[0mfunc\u001b[0m\u001b[0;34m\u001b[0m\u001b[0;34m\u001b[0m\u001b[0m\n\u001b[1;32m    111\u001b[0m         \u001b[0;32mtry\u001b[0m\u001b[0;34m:\u001b[0m\u001b[0;34m\u001b[0m\u001b[0;34m\u001b[0m\u001b[0m\n\u001b[0;32m--> 112\u001b[0;31m             \u001b[0;32mreturn\u001b[0m \u001b[0mnext\u001b[0m\u001b[0;34m(\u001b[0m\u001b[0mself\u001b[0m\u001b[0;34m.\u001b[0m\u001b[0mgen\u001b[0m\u001b[0;34m)\u001b[0m\u001b[0;34m\u001b[0m\u001b[0;34m\u001b[0m\u001b[0m\n\u001b[0m\u001b[1;32m    113\u001b[0m         \u001b[0;32mexcept\u001b[0m \u001b[0mStopIteration\u001b[0m\u001b[0;34m:\u001b[0m\u001b[0;34m\u001b[0m\u001b[0;34m\u001b[0m\u001b[0m\n\u001b[1;32m    114\u001b[0m             \u001b[0;32mraise\u001b[0m \u001b[0mRuntimeError\u001b[0m\u001b[0;34m(\u001b[0m\u001b[0;34m\"generator didn't yield\"\u001b[0m\u001b[0;34m)\u001b[0m \u001b[0;32mfrom\u001b[0m \u001b[0;32mNone\u001b[0m\u001b[0;34m\u001b[0m\u001b[0;34m\u001b[0m\u001b[0m\n",
      "\u001b[0;32m/usr/local/lib/python3.7/site-packages/pymongo/mongo_client.py\u001b[0m in \u001b[0;36m_tmp_session\u001b[0;34m(self, session, close)\u001b[0m\n\u001b[1;32m   1574\u001b[0m             \u001b[0;32mreturn\u001b[0m\u001b[0;34m\u001b[0m\u001b[0;34m\u001b[0m\u001b[0m\n\u001b[1;32m   1575\u001b[0m \u001b[0;34m\u001b[0m\u001b[0m\n\u001b[0;32m-> 1576\u001b[0;31m         \u001b[0ms\u001b[0m \u001b[0;34m=\u001b[0m \u001b[0mself\u001b[0m\u001b[0;34m.\u001b[0m\u001b[0m_ensure_session\u001b[0m\u001b[0;34m(\u001b[0m\u001b[0msession\u001b[0m\u001b[0;34m)\u001b[0m\u001b[0;34m\u001b[0m\u001b[0;34m\u001b[0m\u001b[0m\n\u001b[0m\u001b[1;32m   1577\u001b[0m         \u001b[0;32mif\u001b[0m \u001b[0ms\u001b[0m \u001b[0;32mand\u001b[0m \u001b[0mclose\u001b[0m\u001b[0;34m:\u001b[0m\u001b[0;34m\u001b[0m\u001b[0;34m\u001b[0m\u001b[0m\n\u001b[1;32m   1578\u001b[0m             \u001b[0;32mwith\u001b[0m \u001b[0ms\u001b[0m\u001b[0;34m:\u001b[0m\u001b[0;34m\u001b[0m\u001b[0;34m\u001b[0m\u001b[0m\n",
      "\u001b[0;32m/usr/local/lib/python3.7/site-packages/pymongo/mongo_client.py\u001b[0m in \u001b[0;36m_ensure_session\u001b[0;34m(self, session)\u001b[0m\n\u001b[1;32m   1561\u001b[0m             \u001b[0;31m# Don't make implicit sessions causally consistent. Applications\u001b[0m\u001b[0;34m\u001b[0m\u001b[0;34m\u001b[0m\u001b[0;34m\u001b[0m\u001b[0m\n\u001b[1;32m   1562\u001b[0m             \u001b[0;31m# should always opt-in.\u001b[0m\u001b[0;34m\u001b[0m\u001b[0;34m\u001b[0m\u001b[0;34m\u001b[0m\u001b[0m\n\u001b[0;32m-> 1563\u001b[0;31m             \u001b[0;32mreturn\u001b[0m \u001b[0mself\u001b[0m\u001b[0;34m.\u001b[0m\u001b[0m__start_session\u001b[0m\u001b[0;34m(\u001b[0m\u001b[0;32mTrue\u001b[0m\u001b[0;34m,\u001b[0m \u001b[0mcausal_consistency\u001b[0m\u001b[0;34m=\u001b[0m\u001b[0;32mFalse\u001b[0m\u001b[0;34m)\u001b[0m\u001b[0;34m\u001b[0m\u001b[0;34m\u001b[0m\u001b[0m\n\u001b[0m\u001b[1;32m   1564\u001b[0m         \u001b[0;32mexcept\u001b[0m \u001b[0;34m(\u001b[0m\u001b[0mConfigurationError\u001b[0m\u001b[0;34m,\u001b[0m \u001b[0mInvalidOperation\u001b[0m\u001b[0;34m)\u001b[0m\u001b[0;34m:\u001b[0m\u001b[0;34m\u001b[0m\u001b[0;34m\u001b[0m\u001b[0m\n\u001b[1;32m   1565\u001b[0m             \u001b[0;31m# Sessions not supported, or multiple users authenticated.\u001b[0m\u001b[0;34m\u001b[0m\u001b[0;34m\u001b[0m\u001b[0;34m\u001b[0m\u001b[0m\n",
      "\u001b[0;32m/usr/local/lib/python3.7/site-packages/pymongo/mongo_client.py\u001b[0m in \u001b[0;36m__start_session\u001b[0;34m(self, implicit, **kwargs)\u001b[0m\n\u001b[1;32m   1514\u001b[0m \u001b[0;34m\u001b[0m\u001b[0m\n\u001b[1;32m   1515\u001b[0m         \u001b[0;31m# Raises ConfigurationError if sessions are not supported.\u001b[0m\u001b[0;34m\u001b[0m\u001b[0;34m\u001b[0m\u001b[0;34m\u001b[0m\u001b[0m\n\u001b[0;32m-> 1516\u001b[0;31m         \u001b[0mserver_session\u001b[0m \u001b[0;34m=\u001b[0m \u001b[0mself\u001b[0m\u001b[0;34m.\u001b[0m\u001b[0m_get_server_session\u001b[0m\u001b[0;34m(\u001b[0m\u001b[0;34m)\u001b[0m\u001b[0;34m\u001b[0m\u001b[0;34m\u001b[0m\u001b[0m\n\u001b[0m\u001b[1;32m   1517\u001b[0m         \u001b[0mopts\u001b[0m \u001b[0;34m=\u001b[0m \u001b[0mclient_session\u001b[0m\u001b[0;34m.\u001b[0m\u001b[0mSessionOptions\u001b[0m\u001b[0;34m(\u001b[0m\u001b[0;34m**\u001b[0m\u001b[0mkwargs\u001b[0m\u001b[0;34m)\u001b[0m\u001b[0;34m\u001b[0m\u001b[0;34m\u001b[0m\u001b[0m\n\u001b[1;32m   1518\u001b[0m         return client_session.ClientSession(\n",
      "\u001b[0;32m/usr/local/lib/python3.7/site-packages/pymongo/mongo_client.py\u001b[0m in \u001b[0;36m_get_server_session\u001b[0;34m(self)\u001b[0m\n\u001b[1;32m   1547\u001b[0m     \u001b[0;32mdef\u001b[0m \u001b[0m_get_server_session\u001b[0m\u001b[0;34m(\u001b[0m\u001b[0mself\u001b[0m\u001b[0;34m)\u001b[0m\u001b[0;34m:\u001b[0m\u001b[0;34m\u001b[0m\u001b[0;34m\u001b[0m\u001b[0m\n\u001b[1;32m   1548\u001b[0m         \u001b[0;34m\"\"\"Internal: start or resume a _ServerSession.\"\"\"\u001b[0m\u001b[0;34m\u001b[0m\u001b[0;34m\u001b[0m\u001b[0m\n\u001b[0;32m-> 1549\u001b[0;31m         \u001b[0;32mreturn\u001b[0m \u001b[0mself\u001b[0m\u001b[0;34m.\u001b[0m\u001b[0m_topology\u001b[0m\u001b[0;34m.\u001b[0m\u001b[0mget_server_session\u001b[0m\u001b[0;34m(\u001b[0m\u001b[0;34m)\u001b[0m\u001b[0;34m\u001b[0m\u001b[0;34m\u001b[0m\u001b[0m\n\u001b[0m\u001b[1;32m   1550\u001b[0m \u001b[0;34m\u001b[0m\u001b[0m\n\u001b[1;32m   1551\u001b[0m     \u001b[0;32mdef\u001b[0m \u001b[0m_return_server_session\u001b[0m\u001b[0;34m(\u001b[0m\u001b[0mself\u001b[0m\u001b[0;34m,\u001b[0m \u001b[0mserver_session\u001b[0m\u001b[0;34m,\u001b[0m \u001b[0mlock\u001b[0m\u001b[0;34m)\u001b[0m\u001b[0;34m:\u001b[0m\u001b[0;34m\u001b[0m\u001b[0;34m\u001b[0m\u001b[0m\n",
      "\u001b[0;32m/usr/local/lib/python3.7/site-packages/pymongo/topology.py\u001b[0m in \u001b[0;36mget_server_session\u001b[0;34m(self)\u001b[0m\n\u001b[1;32m    425\u001b[0m                             \u001b[0many_server_selector\u001b[0m\u001b[0;34m,\u001b[0m\u001b[0;34m\u001b[0m\u001b[0;34m\u001b[0m\u001b[0m\n\u001b[1;32m    426\u001b[0m                             \u001b[0mself\u001b[0m\u001b[0;34m.\u001b[0m\u001b[0m_settings\u001b[0m\u001b[0;34m.\u001b[0m\u001b[0mserver_selection_timeout\u001b[0m\u001b[0;34m,\u001b[0m\u001b[0;34m\u001b[0m\u001b[0;34m\u001b[0m\u001b[0m\n\u001b[0;32m--> 427\u001b[0;31m                             None)\n\u001b[0m\u001b[1;32m    428\u001b[0m                 \u001b[0;32melif\u001b[0m \u001b[0;32mnot\u001b[0m \u001b[0mself\u001b[0m\u001b[0;34m.\u001b[0m\u001b[0m_description\u001b[0m\u001b[0;34m.\u001b[0m\u001b[0mreadable_servers\u001b[0m\u001b[0;34m:\u001b[0m\u001b[0;34m\u001b[0m\u001b[0;34m\u001b[0m\u001b[0m\n\u001b[1;32m    429\u001b[0m                     self._select_servers_loop(\n",
      "\u001b[0;32m/usr/local/lib/python3.7/site-packages/pymongo/topology.py\u001b[0m in \u001b[0;36m_select_servers_loop\u001b[0;34m(self, selector, timeout, address)\u001b[0m\n\u001b[1;32m    197\u001b[0m             \u001b[0;32mif\u001b[0m \u001b[0mtimeout\u001b[0m \u001b[0;34m==\u001b[0m \u001b[0;36m0\u001b[0m \u001b[0;32mor\u001b[0m \u001b[0mnow\u001b[0m \u001b[0;34m>\u001b[0m \u001b[0mend_time\u001b[0m\u001b[0;34m:\u001b[0m\u001b[0;34m\u001b[0m\u001b[0;34m\u001b[0m\u001b[0m\n\u001b[1;32m    198\u001b[0m                 raise ServerSelectionTimeoutError(\n\u001b[0;32m--> 199\u001b[0;31m                     self._error_message(selector))\n\u001b[0m\u001b[1;32m    200\u001b[0m \u001b[0;34m\u001b[0m\u001b[0m\n\u001b[1;32m    201\u001b[0m             \u001b[0mself\u001b[0m\u001b[0;34m.\u001b[0m\u001b[0m_ensure_opened\u001b[0m\u001b[0;34m(\u001b[0m\u001b[0;34m)\u001b[0m\u001b[0;34m\u001b[0m\u001b[0;34m\u001b[0m\u001b[0m\n",
      "\u001b[0;31mServerSelectionTimeoutError\u001b[0m: 127.0.0.1:27018: [Errno 61] Connection refused"
     ]
    }
   ],
   "source": [
    "doc = {\n",
    "            \"_id\": 0,\n",
    "            \"url\": \"abc\",\n",
    "            \"title\": \"defg\"\n",
    "        }\n",
    "\n",
    "test_collection.find_one_and_replace({\"_id\": doc[\"_id\"]}, doc, upsert=True)"
   ]
  },
  {
   "cell_type": "code",
   "execution_count": null,
   "metadata": {},
   "outputs": [],
   "source": [
    "doc = {\n",
    "            \"_id\": 1,\n",
    "            \"url\": \"abc\"\n",
    "        }\n",
    "test_collection.find_one_and_replace({\"_id\": doc[\"_id\"]}, doc, upsert=True)"
   ]
  },
  {
   "cell_type": "code",
   "execution_count": null,
   "metadata": {},
   "outputs": [],
   "source": [
    "list(test_collection.find({}))"
   ]
  },
  {
   "cell_type": "code",
   "execution_count": null,
   "metadata": {},
   "outputs": [],
   "source": []
  },
  {
   "cell_type": "code",
   "execution_count": null,
   "metadata": {},
   "outputs": [],
   "source": []
  },
  {
   "cell_type": "code",
   "execution_count": null,
   "metadata": {},
   "outputs": [],
   "source": []
  },
  {
   "cell_type": "code",
   "execution_count": null,
   "metadata": {},
   "outputs": [],
   "source": []
  },
  {
   "cell_type": "code",
   "execution_count": null,
   "metadata": {},
   "outputs": [],
   "source": []
  }
 ],
 "metadata": {
  "kernelspec": {
   "display_name": "Python 3",
   "language": "python",
   "name": "python3"
  },
  "language_info": {
   "codemirror_mode": {
    "name": "ipython",
    "version": 3
   },
   "file_extension": ".py",
   "mimetype": "text/x-python",
   "name": "python",
   "nbconvert_exporter": "python",
   "pygments_lexer": "ipython3",
   "version": "3.7.2"
  }
 },
 "nbformat": 4,
 "nbformat_minor": 2
}
