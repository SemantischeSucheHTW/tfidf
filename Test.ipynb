{
 "cells": [
  {
   "cell_type": "code",
   "execution_count": 1,
   "metadata": {},
   "outputs": [],
   "source": [
    "from dao.mongodbdao import MongoDBDao\n",
    "from tfidf.TF_IDF import TF_IDF\n",
    "import numpy as np \n",
    "\n",
    "dao = MongoDBDao({\n",
    "    \"host\": \"127.0.0.1\",\n",
    "    \"db\": \"default\",\n",
    "    \"wordindex_collection\": \"wordindex\",\n",
    "    \"pagedetails_collection\": \"pagedetails\",\n",
    "    \"username\": \"root\",\n",
    "    \"password\": \"spezanw\"\n",
    "})"
   ]
  },
  {
   "cell_type": "code",
   "execution_count": 2,
   "metadata": {},
   "outputs": [
    {
     "name": "stdout",
     "output_type": "stream",
     "text": [
      "TF-IDF module: Initial TF calculation: article with url {'https://www.berlin.de/polizei/polizeimeldungen/pressemitteilung.276386.php'} contains no words\n",
      "TF-IDF module: Initial TF calculation: article with url {'https://www.berlin.de/polizei/polizeimeldungen/pressemitteilung.461948.php'} contains no words\n",
      "TF-IDF module: Initial TF calculation: article with url {'https://www.berlin.de/polizei/polizeimeldungen/pressemitteilung.587702.php'} contains no words\n",
      "TF-IDF module: Initial TF calculation: article with url {'https://www.berlin.de/polizei/polizeimeldungen/pressemitteilung.85381.php'} contains no words\n",
      "TF-IDF module: Inital TF-IDF calculation: no idf for {161139} terms\n"
     ]
    }
   ],
   "source": [
    "tfidf = TF_IDF(dao)"
   ]
  },
  {
   "cell_type": "markdown",
   "metadata": {},
   "source": [
    "# diverse Tests"
   ]
  },
  {
   "cell_type": "code",
   "execution_count": 3,
   "metadata": {},
   "outputs": [
    {
     "name": "stdout",
     "output_type": "stream",
     "text": [
      "[1, 2]\n",
      "[3, 4]\n"
     ]
    }
   ],
   "source": [
    "a = [[1, 2],[3, 4]]\n",
    "for j in a:\n",
    "    print(j)"
   ]
  },
  {
   "cell_type": "code",
   "execution_count": null,
   "metadata": {},
   "outputs": [],
   "source": []
  },
  {
   "cell_type": "code",
   "execution_count": 4,
   "metadata": {},
   "outputs": [
    {
     "name": "stdout",
     "output_type": "stream",
     "text": [
      "True\n"
     ]
    }
   ],
   "source": [
    "term_count = dao.getAllWordsWithCounts()\n",
    "print(\"droge\" in term_count)"
   ]
  },
  {
   "cell_type": "code",
   "execution_count": 5,
   "metadata": {},
   "outputs": [
    {
     "name": "stdout",
     "output_type": "stream",
     "text": [
      "TF-IDF module: Input TF-IDF calculation: word {'drogen'} in query is not in db\n"
     ]
    },
    {
     "data": {
      "text/plain": [
       "[]"
      ]
     },
     "execution_count": 5,
     "metadata": {},
     "output_type": "execute_result"
    }
   ],
   "source": [
    "#tfidf.getResultsForInput(user_input=[\"fußgängerin\", \"gestern\", \"nachmittag\", \"polizei\", \"waffe\", \"drogen\", \"fahrrad\"], n_results=100, return_sims=True)\n",
    "#tfidf.tf_idfs[\"https://www.berlin.de/polizei/polizeimeldungen/pressemitteilung.247355.php\"]\n",
    "\n",
    "tfidf.getResultsForInput(user_input=[\"drogen\"], n_results=100, return_sims=True)\n",
    "\n"
   ]
  },
  {
   "cell_type": "markdown",
   "metadata": {},
   "source": [
    "TF: \n",
    "- für jedes Dokument alle Wörter\n",
    "\n",
    "IDF:\n",
    "- Anzahl der Dokumente\n",
    "- alle Wörter\n",
    "- in wie vielen Dokumenten kommt jedes Wort vor?\n",
    "\n",
    "1. Index: Anzahl der Dokumente\n",
    "2. Inverser Index: Für term t get t.length"
   ]
  },
  {
   "cell_type": "code",
   "execution_count": 6,
   "metadata": {},
   "outputs": [
    {
     "data": {
      "text/plain": [
       "{'_id': 'https://www.berlin.de/polizei/polizeimeldungen/pressemitteilung.408478.php',\n",
       " 'url': 'https://www.berlin.de/polizei/polizeimeldungen/pressemitteilung.408478.php',\n",
       " 'title': 'Videothek überfallen',\n",
       " 'location': 'Charlottenburg-Wilmersdorf',\n",
       " 'date': '2015-11-24',\n",
       " 'nr': '2925',\n",
       " 'text': 'Ziel eines Überfalls war in der vergangenen Nacht eine Videothek in Charlottenburg. Ermittlungen zufolge betrat kurz vor Mitternacht ein maskierter Mann das Geschäft in der Bismarckstraße, bedrohte den anwesenden Angestellten mit einer Schusswaffe und forderte die Herausgabe von Geld. Anschließend flüchtete der Räuber mit der erlangten Beute in unbekannte Richtung. Der 22-jährige Angestellte blieb unverletzt. Die Ermittlungen führt das örtlich zuständige Raubkommissariat der Polizeidirektion 2.',\n",
       " 'words': ['ziel',\n",
       "  'überfalls',\n",
       "  'nacht',\n",
       "  'videothek',\n",
       "  'charlottenburg',\n",
       "  'ermittlungen',\n",
       "  'betrat',\n",
       "  'mitternacht',\n",
       "  'maskierter',\n",
       "  'mann',\n",
       "  'geschäft',\n",
       "  'bismarckstraße',\n",
       "  'bedrohte',\n",
       "  'anwesenden',\n",
       "  'angestellten',\n",
       "  'schusswaffe',\n",
       "  'forderte',\n",
       "  'herausgabe',\n",
       "  'geld',\n",
       "  'anschließend',\n",
       "  'flüchtete',\n",
       "  'räuber',\n",
       "  'erlangten',\n",
       "  'beute',\n",
       "  'unbekannte',\n",
       "  'richtung',\n",
       "  '22',\n",
       "  'jährige',\n",
       "  'angestellte',\n",
       "  'blieb',\n",
       "  'unverletzt',\n",
       "  'ermittlungen',\n",
       "  'führt',\n",
       "  'örtlich',\n",
       "  'zuständige',\n",
       "  'raubkommissariat',\n",
       "  'polizeidirektion',\n",
       "  '2']}"
      ]
     },
     "execution_count": 6,
     "metadata": {},
     "output_type": "execute_result"
    }
   ],
   "source": [
    "test_url = \"https://www.berlin.de/polizei/polizeimeldungen/pressemitteilung.247355.php\"\n",
    "test_url2 = \"https://www.berlin.de/polizei/polizeimeldungen/pressemitteilung.408478.php\"\n",
    "\n",
    "dao.getPageDetails(test_url2)"
   ]
  },
  {
   "cell_type": "code",
   "execution_count": 7,
   "metadata": {},
   "outputs": [
    {
     "name": "stdout",
     "output_type": "stream",
     "text": [
      "TF-IDF module: Input TF-IDF calculation: word {'angestellten'} in query is not in db\n",
      "TF-IDF module: Input TF-IDF calculation: word {'anwesenden'} in query is not in db\n",
      "TF-IDF module: Input TF-IDF calculation: word {'betrat'} in query is not in db\n",
      "TF-IDF module: Input TF-IDF calculation: word {'blieb'} in query is not in db\n",
      "TF-IDF module: Input TF-IDF calculation: word {'erlangten'} in query is not in db\n",
      "TF-IDF module: Input TF-IDF calculation: word {'flüchtete'} in query is not in db\n",
      "TF-IDF module: Input TF-IDF calculation: word {'forderte'} in query is not in db\n",
      "TF-IDF module: Input TF-IDF calculation: word {'führt'} in query is not in db\n",
      "TF-IDF module: Input TF-IDF calculation: word {'zuständige'} in query is not in db\n",
      "TF-IDF module: Input TF-IDF calculation: word {'überfalls'} in query is not in db\n"
     ]
    },
    {
     "data": {
      "text/plain": [
       "[('https://www.berlin.de/polizei/polizeimeldungen/pressemitteilung.385758.php',\n",
       "  0.6582476990997616),\n",
       " ('https://www.berlin.de/polizei/polizeimeldungen/pressemitteilung.447319.php',\n",
       "  0.6500764146491781),\n",
       " ('https://www.berlin.de/polizei/polizeimeldungen/pressemitteilung.717756.php',\n",
       "  0.6329743357896492),\n",
       " ('https://www.berlin.de/polizei/polizeimeldungen/pressemitteilung.338367.php',\n",
       "  0.6315409973903732)]"
      ]
     },
     "execution_count": 7,
     "metadata": {},
     "output_type": "execute_result"
    }
   ],
   "source": [
    "tfidf.getSimilarArticles(test_url2, n_results=5, return_sims=True, min_sim=0.2)"
   ]
  },
  {
   "cell_type": "code",
   "execution_count": null,
   "metadata": {},
   "outputs": [],
   "source": []
  }
 ],
 "metadata": {
  "kernelspec": {
   "display_name": "Python 3",
   "language": "python",
   "name": "python3"
  },
  "language_info": {
   "codemirror_mode": {
    "name": "ipython",
    "version": 3
   },
   "file_extension": ".py",
   "mimetype": "text/x-python",
   "name": "python",
   "nbconvert_exporter": "python",
   "pygments_lexer": "ipython3",
   "version": "3.7.2"
  }
 },
 "nbformat": 4,
 "nbformat_minor": 2
}
