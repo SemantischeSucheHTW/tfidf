{
 "cells": [
  {
   "cell_type": "code",
   "execution_count": 1,
   "metadata": {},
   "outputs": [],
   "source": [
    "from dao.mongodbdao import MongoDBDao\n",
    "from tfidf.TF_IDF import TF_IDF\n",
    "import numpy as np \n",
    "\n",
    "dao = MongoDBDao({\n",
    "    \"host\": \"127.0.0.1\",\n",
    "    \"db\": \"default\",\n",
    "    \"wordindex_collection\": \"wordindex\",\n",
    "    \"pagedetails_collection\": \"pagedetails\",\n",
    "    \"username\": \"root\",\n",
    "    \"password\": \"spezanw\"\n",
    "})"
   ]
  },
  {
   "cell_type": "markdown",
   "metadata": {},
   "source": [
    "# Speicherbedarf"
   ]
  },
  {
   "cell_type": "code",
   "execution_count": 2,
   "metadata": {},
   "outputs": [
    {
     "name": "stdout",
     "output_type": "stream",
     "text": [
      "TF-IDF module: initial TF calculation: article with url {'https://www.berlin.de/polizei/polizeimeldungen/pressemitteilung.276386.php'} contains no words\n",
      "TF-IDF module: initial TF calculation: article with url {'https://www.berlin.de/polizei/polizeimeldungen/pressemitteilung.461948.php'} contains no words\n",
      "TF-IDF module: initial TF calculation: article with url {'https://www.berlin.de/polizei/polizeimeldungen/pressemitteilung.587702.php'} contains no words\n",
      "TF-IDF module: initial TF calculation: article with url {'https://www.berlin.de/polizei/polizeimeldungen/pressemitteilung.85381.php'} contains no words\n"
     ]
    }
   ],
   "source": [
    "tfidf = TF_IDF(dao)"
   ]
  },
  {
   "cell_type": "code",
   "execution_count": 3,
   "metadata": {},
   "outputs": [
    {
     "name": "stdout",
     "output_type": "stream",
     "text": [
      "I calculated:\t\t 47381406\n",
      "python calculated:\t 295008\n",
      "we calculated:\t\t 66514316\n"
     ]
    }
   ],
   "source": [
    "def measureTF_IDF_Index():\n",
    "    n_urls = len(tfidf.doc_term_tf_idfs)\n",
    "    #url_lengths = np.sum([len(url) for url in self.doc_term_tf_idfs])\n",
    "    pass\n",
    "\n",
    "n_urls = len(tfidf.doc_term_tf_idfs)\n",
    "urls_length = np.sum([len(url) for url in tfidf.doc_term_tf_idfs]) #String\n",
    "\n",
    "n_terms = 0\n",
    "terms_length = 0 #String\n",
    "n_tf_idf_values = 0 #np.Float64\n",
    "for docid, term_tf_idfs in tfidf.doc_term_tf_idfs.items():\n",
    "    for term, tf_idf in term_tf_idfs.items():\n",
    "        terms_length += len(term)\n",
    "        n_terms += 1\n",
    "        n_tf_idf_values += 1\n",
    "\n",
    "strings_memory = urls_length + n_urls*40\\\n",
    "                    + n_urls*64\\\n",
    "                    + n_urls*240\\\n",
    "                    + terms_length + n_terms*40\n",
    "tf_idf_values_memory = n_tf_idf_values*32\n",
    "print(\"I calculated:\\t\\t\", strings_memory+tf_idf_values_memory)\n",
    "\n",
    "import sys\n",
    "print(\"python calculated:\\t\", sys.getsizeof(tfidf.doc_term_tf_idfs))\n",
    "\n",
    "manual_size = 0\n",
    "for docid, term_tf_idfs in tfidf.doc_term_tf_idfs.items():\n",
    "    manual_size+=sys.getsizeof(docid)\n",
    "    for term, tf_idf in term_tf_idfs.items():\n",
    "        manual_size+=sys.getsizeof(term)\n",
    "        manual_size+=sys.getsizeof(tf_idf)\n",
    "print(\"we calculated:\\t\\t\", manual_size)"
   ]
  },
  {
   "cell_type": "code",
   "execution_count": 4,
   "metadata": {},
   "outputs": [
    {
     "name": "stdout",
     "output_type": "stream",
     "text": [
      "some link coming from python doc of sys.getsizeof() calculated 87970668\n"
     ]
    }
   ],
   "source": [
    "#source: https://code.activestate.com/recipes/577504/\n",
    "from __future__ import print_function\n",
    "from sys import getsizeof, stderr\n",
    "from itertools import chain\n",
    "from collections import deque\n",
    "try:\n",
    "    from reprlib import repr\n",
    "except ImportError:\n",
    "    pass\n",
    "\n",
    "def total_size(o, handlers={}, verbose=False):\n",
    "    \"\"\" Returns the approximate memory footprint an object and all of its contents.\n",
    "\n",
    "    Automatically finds the contents of the following builtin containers and\n",
    "    their subclasses:  tuple, list, deque, dict, set and frozenset.\n",
    "    To search other containers, add handlers to iterate over their contents:\n",
    "\n",
    "        handlers = {SomeContainerClass: iter,\n",
    "                    OtherContainerClass: OtherContainerClass.get_elements}\n",
    "\n",
    "    \"\"\"\n",
    "    dict_handler = lambda d: chain.from_iterable(d.items())\n",
    "    all_handlers = {tuple: iter,\n",
    "                    list: iter,\n",
    "                    deque: iter,\n",
    "                    dict: dict_handler,\n",
    "                    set: iter,\n",
    "                    frozenset: iter,\n",
    "                   }\n",
    "    all_handlers.update(handlers)     # user handlers take precedence\n",
    "    seen = set()                      # track which object id's have already been seen\n",
    "    default_size = getsizeof(0)       # estimate sizeof object without __sizeof__\n",
    "\n",
    "    def sizeof(o):\n",
    "        if id(o) in seen:       # do not double count the same object\n",
    "            return 0\n",
    "        seen.add(id(o))\n",
    "        s = getsizeof(o, default_size)\n",
    "\n",
    "        if verbose:\n",
    "            print(s, type(o), repr(o))\n",
    "            #print(s, type(o), repr(o), file=stderr)\n",
    "\n",
    "        for typ, handler in all_handlers.items():\n",
    "            if isinstance(o, typ):\n",
    "                s += sum(map(sizeof, handler(o)))\n",
    "                break\n",
    "        return s\n",
    "\n",
    "    return sizeof(o)\n",
    "\n",
    "print(\"some link coming from python doc of sys.getsizeof() calculated\",total_size(tfidf.doc_term_tf_idfs, verbose=False))"
   ]
  },
  {
   "cell_type": "code",
   "execution_count": 5,
   "metadata": {},
   "outputs": [
    {
     "name": "stdout",
     "output_type": "stream",
     "text": [
      "Wissam Jarjoui calculated 87970668\n"
     ]
    }
   ],
   "source": [
    "#source:\n",
    "#Wissam Jarjoui, Measure the Real Size of Any Python Object, 21.07.2016, URL:https://goshippo.com/blog/measure-real-size-any-python-object/\n",
    "def get_size(obj, seen=None):\n",
    "    \"\"\"Recursively finds size of objects\"\"\"\n",
    "    size = sys.getsizeof(obj)\n",
    "    if seen is None:\n",
    "        seen = set()\n",
    "    obj_id = id(obj)\n",
    "    if obj_id in seen:\n",
    "        return 0\n",
    "    # Important mark as seen *before* entering recursion to gracefully handle\n",
    "    # self-referential objects\n",
    "    seen.add(obj_id)\n",
    "    if isinstance(obj, dict):\n",
    "        size += sum([get_size(v, seen) for v in obj.values()])\n",
    "        size += sum([get_size(k, seen) for k in obj.keys()])\n",
    "    elif hasattr(obj, '__dict__'):\n",
    "        size += get_size(obj.__dict__, seen)\n",
    "    elif hasattr(obj, '__iter__') and not isinstance(obj, (str, bytes, bytearray)):\n",
    "        size += sum([get_size(i, seen) for i in obj])\n",
    "    return size\n",
    "\n",
    "print(\"Wissam Jarjoui calculated\", get_size(tfidf.doc_term_tf_idfs))"
   ]
  },
  {
   "cell_type": "code",
   "execution_count": null,
   "metadata": {},
   "outputs": [],
   "source": []
  }
 ],
 "metadata": {
  "kernelspec": {
   "display_name": "Python 3",
   "language": "python",
   "name": "python3"
  },
  "language_info": {
   "codemirror_mode": {
    "name": "ipython",
    "version": 3
   },
   "file_extension": ".py",
   "mimetype": "text/x-python",
   "name": "python",
   "nbconvert_exporter": "python",
   "pygments_lexer": "ipython3",
   "version": "3.7.2"
  }
 },
 "nbformat": 4,
 "nbformat_minor": 2
}
